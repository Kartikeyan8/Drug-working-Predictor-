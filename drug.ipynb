{
 "cells": [
  {
   "cell_type": "code",
   "execution_count": 10,
   "id": "7aac825e",
   "metadata": {},
   "outputs": [],
   "source": [
    "import keras\n",
    "from keras.models import Sequential\n",
    "from keras.layers import Dense\n",
    "from tensorflow.keras.optimizers import Adam\n",
    "import numpy as np\n",
    "from random import randint\n",
    "from sklearn.preprocessing import MinMaxScaler\n",
    "import pandas as pd"
   ]
  },
  {
   "cell_type": "code",
   "execution_count": 17,
   "id": "8a366d05",
   "metadata": {},
   "outputs": [],
   "source": [
    "train_sample=[]\n",
    "train_label=[]\n",
    "for i in range(1000):\n",
    "    young_age=randint(15,60)\n",
    "    train_sample.append(young_age)\n",
    "    train_label.append(0)    \n",
    "    old_age=randint(60,100)\n",
    "    train_sample.append(old_age)\n",
    "    train_label.append(1)\n",
    "    "
   ]
  },
  {
   "cell_type": "code",
   "execution_count": 37,
   "id": "1b6be145",
   "metadata": {},
   "outputs": [],
   "source": [
    "train_sample=np.array(train_sample)\n",
    "train_label=np.array(train_label)\n",
    "scaler=MinMaxScaler(feature_range=(0,1))\n",
    "scaler_train_sample=scaler.fit_transform(train_sample.reshape(-1,1))\n",
    "model=Sequential([Dense(16,input_dim=1,activation='relu'),Dense(32,input_dim=1,activation='relu'),Dense(2,activation='softmax')])"
   ]
  },
  {
   "cell_type": "code",
   "execution_count": 39,
   "id": "65eafd30",
   "metadata": {},
   "outputs": [
    {
     "name": "stdout",
     "output_type": "stream",
     "text": [
      "Model: \"sequential_2\"\n",
      "_________________________________________________________________\n",
      " Layer (type)                Output Shape              Param #   \n",
      "=================================================================\n",
      " dense_6 (Dense)             (None, 16)                32        \n",
      "                                                                 \n",
      " dense_7 (Dense)             (None, 32)                544       \n",
      "                                                                 \n",
      " dense_8 (Dense)             (None, 2)                 66        \n",
      "                                                                 \n",
      "=================================================================\n",
      "Total params: 642\n",
      "Trainable params: 642\n",
      "Non-trainable params: 0\n",
      "_________________________________________________________________\n"
     ]
    }
   ],
   "source": [
    "model.summary()"
   ]
  },
  {
   "cell_type": "code",
   "execution_count": 46,
   "id": "3afe8960",
   "metadata": {},
   "outputs": [
    {
     "name": "stdout",
     "output_type": "stream",
     "text": [
      "Epoch 1/10\n",
      "400/400 [==============================] - 1s 2ms/step - loss: 0.0617 - accuracy: 0.9775\n",
      "Epoch 2/10\n",
      "400/400 [==============================] - 1s 2ms/step - loss: 0.0449 - accuracy: 0.9855\n",
      "Epoch 3/10\n",
      "400/400 [==============================] - 1s 2ms/step - loss: 0.0402 - accuracy: 0.9870\n",
      "Epoch 4/10\n",
      "400/400 [==============================] - 1s 2ms/step - loss: 0.0392 - accuracy: 0.9885\n",
      "Epoch 5/10\n",
      "400/400 [==============================] - 1s 2ms/step - loss: 0.0383 - accuracy: 0.9855\n",
      "Epoch 6/10\n",
      "400/400 [==============================] - 1s 2ms/step - loss: 0.0383 - accuracy: 0.9865\n",
      "Epoch 7/10\n",
      "400/400 [==============================] - 1s 2ms/step - loss: 0.0378 - accuracy: 0.9840\n",
      "Epoch 8/10\n",
      "400/400 [==============================] - 1s 2ms/step - loss: 0.0367 - accuracy: 0.9885\n",
      "Epoch 9/10\n",
      "400/400 [==============================] - 1s 2ms/step - loss: 0.0369 - accuracy: 0.9860\n",
      "Epoch 10/10\n",
      "400/400 [==============================] - 1s 2ms/step - loss: 0.0360 - accuracy: 0.9890\n"
     ]
    },
    {
     "data": {
      "text/plain": [
       "<keras.engine.sequential.Sequential at 0x2423f5ab0a0>"
      ]
     },
     "execution_count": 46,
     "metadata": {},
     "output_type": "execute_result"
    }
   ],
   "source": [
    "model.compile(Adam(lr=0.0001),loss='sparse_categorical_crossentropy',metrics=['accuracy'])\n",
    "model.fit(train_sample,train_label,batch_size=5,epochs=10)\n",
    "model"
   ]
  },
  {
   "cell_type": "code",
   "execution_count": 96,
   "id": "3349a56a",
   "metadata": {},
   "outputs": [
    {
     "data": {
      "text/plain": [
       "array([[1, 0],\n",
       "       [0, 0],\n",
       "       [1, 0],\n",
       "       ...,\n",
       "       [0, 0],\n",
       "       [0, 0],\n",
       "       [0, 0]])"
      ]
     },
     "execution_count": 96,
     "metadata": {},
     "output_type": "execute_result"
    }
   ],
   "source": [
    "test_sample=[]\n",
    "test_label=[]\n",
    "for i in range(400):\n",
    "    young_age=randint(15,60)\n",
    "    test_sample.append(young_age)\n",
    "    test_label.append(0)    \n",
    "    old_age=randint(60,100)\n",
    "    test_sample.append(old_age)\n",
    "    test_label.append(1)\n",
    "test_sample=np.array(train_sample)\n",
    "test_label=np.array(train_label)\n",
    "test_out=model.predict(test_sample,batch_size=10)\n",
    "test_out=test_out.astype('int32')\n",
    "test_out"
   ]
  },
  {
   "cell_type": "code",
   "execution_count": 90,
   "id": "f3e8dd37",
   "metadata": {},
   "outputs": [],
   "source": [
    "from sklearn.metrics import confusion_matrix\n",
    "from sklearn.metrics import accuracy_score\n"
   ]
  },
  {
   "cell_type": "code",
   "execution_count": 85,
   "id": "4a4cb997",
   "metadata": {},
   "outputs": [
    {
     "data": {
      "text/plain": [
       "dtype('int32')"
      ]
     },
     "execution_count": 85,
     "metadata": {},
     "output_type": "execute_result"
    }
   ],
   "source": [
    "test_label.dtype"
   ]
  },
  {
   "cell_type": "code",
   "execution_count": 86,
   "id": "4541f5f7",
   "metadata": {},
   "outputs": [
    {
     "data": {
      "text/plain": [
       "dtype('int32')"
      ]
     },
     "execution_count": 86,
     "metadata": {},
     "output_type": "execute_result"
    }
   ],
   "source": [
    "test_out.dtype"
   ]
  },
  {
   "cell_type": "code",
   "execution_count": null,
   "id": "79178051",
   "metadata": {},
   "outputs": [],
   "source": [
    "predictedval=confusion_matrix(test_label,test_out)\n",
    "predictedval"
   ]
  },
  {
   "cell_type": "code",
   "execution_count": null,
   "id": "206b81d6",
   "metadata": {},
   "outputs": [],
   "source": []
  }
 ],
 "metadata": {
  "kernelspec": {
   "display_name": "Python 3",
   "language": "python",
   "name": "python3"
  },
  "language_info": {
   "codemirror_mode": {
    "name": "ipython",
    "version": 3
   },
   "file_extension": ".py",
   "mimetype": "text/x-python",
   "name": "python",
   "nbconvert_exporter": "python",
   "pygments_lexer": "ipython3",
   "version": "3.9.7"
  }
 },
 "nbformat": 4,
 "nbformat_minor": 5
}
